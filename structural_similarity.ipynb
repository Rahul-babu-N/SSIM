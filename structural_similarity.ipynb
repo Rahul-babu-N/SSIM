{
 "cells": [
  {
   "cell_type": "code",
   "execution_count": null,
   "id": "08ab6170",
   "metadata": {},
   "outputs": [],
   "source": [
    "import tensorflow as tf\n",
    "import numpy as np\n",
    "import matplotlib.pyplot as plt\n",
    "import os\n",
    "from PIL import Image\n",
    "from tensorflow.keras.models import load_model"
   ]
  },
  {
   "cell_type": "code",
   "execution_count": null,
   "id": "19b0d2ef",
   "metadata": {},
   "outputs": [],
   "source": [
    "import cv2"
   ]
  },
  {
   "cell_type": "code",
   "execution_count": null,
   "id": "1871b86e",
   "metadata": {},
   "outputs": [],
   "source": [
    "data_test = []\n",
    "path = 'Dataset/Test'\n",
    "l = os.listdir(path)\n",
    "for i in l:\n",
    "    imge = Image.open(path+'/'+str(i))\n",
    "    imge = imge.resize((60,60))\n",
    "    imge = np.array(imge)\n",
    "    data_test.append(imge)\n",
    "data_test = np.array(data_test)\n",
    "data_test = data_test/255"
   ]
  },
  {
   "cell_type": "code",
   "execution_count": null,
   "id": "118bc6cc",
   "metadata": {},
   "outputs": [],
   "source": [
    "img = data_test[9]"
   ]
  },
  {
   "cell_type": "code",
   "execution_count": null,
   "id": "07004fcd",
   "metadata": {},
   "outputs": [],
   "source": [
    "plt.imshow(img)"
   ]
  },
  {
   "cell_type": "code",
   "execution_count": null,
   "id": "589959c5",
   "metadata": {},
   "outputs": [],
   "source": [
    "model = load_model(\"custom_data/custom_model_final_sigmoid.h5\")"
   ]
  },
  {
   "cell_type": "code",
   "execution_count": null,
   "id": "2e8d94dd",
   "metadata": {},
   "outputs": [],
   "source": [
    "model(img.reshape(1,60,60,3))"
   ]
  },
  {
   "cell_type": "code",
   "execution_count": null,
   "id": "7663d90c",
   "metadata": {},
   "outputs": [],
   "source": []
  },
  {
   "cell_type": "code",
   "execution_count": null,
   "id": "a40ff93f",
   "metadata": {},
   "outputs": [],
   "source": [
    "X = tf.constant(img.reshape(1,60,60,3))\n",
    "X= tf.cast(X,\"float32\")"
   ]
  },
  {
   "cell_type": "code",
   "execution_count": null,
   "id": "4bfee7c9",
   "metadata": {},
   "outputs": [],
   "source": [
    "tot_noise = 100\n",
    "Z=[]\n",
    "\n",
    "for i in range(tot_noise):\n",
    "        \n",
    "    noise = np.random.randn(108)\n",
    "    Z.append(noise)\n",
    "\n",
    "Z=np.array(Z)\n",
    "Z.shape"
   ]
  },
  {
   "cell_type": "code",
   "execution_count": null,
   "id": "9a1cdff6",
   "metadata": {},
   "outputs": [],
   "source": [
    "generator = tf.keras.Sequential()\n",
    "# generator.add(tf.keras.layers.Flatten(input_shape=(108,)))\n",
    "generator.add(tf.keras.layers.Reshape((3,6,6),input_shape = (108,)))\n",
    "generator.add(tf.keras.layers.Conv2DTranspose(20,(2,2),activation=tf.keras.layers.LeakyReLU()))\n",
    "generator.add(tf.keras.layers.Conv2DTranspose(50,(3,3),activation=tf.keras.layers.LeakyReLU()))\n",
    "generator.add(tf.keras.layers.Conv2DTranspose(100,(4,4),activation=\"sigmoid\"))\n",
    "# generator.add(tf.keras.layers.Flatten())\n",
    "# generator.add(tf.keras.layers.Dense(10800,activation=\"sigmoid\"))\n",
    "generator.add(tf.keras.layers.Reshape((60,60,3)))\n"
   ]
  },
  {
   "cell_type": "code",
   "execution_count": null,
   "id": "b6003152",
   "metadata": {},
   "outputs": [],
   "source": [
    "# generator = tf.keras.Sequential()\n",
    "# # generator.add(tf.keras.layers.Flatten(input_shape=(108,)))\n",
    "# generator.add(tf.keras.layers.Reshape((6,12,6),input_shape = (432,)))\n",
    "# generator.add(tf.keras.layers.Conv2DTranspose(20,(2,2)))\n",
    "# generator.add(tf.keras.layers.Conv2DTranspose(40,(3,3),activation=tf.keras.layers.LeakyReLU()))\n",
    "# generator.add(tf.keras.layers.Conv2DTranspose(60,(3,3)))\n",
    "# generator.add(tf.keras.layers.Conv2DTranspose(80,(4,4),activation=tf.keras.layers.LeakyReLU()))\n",
    "# generator.add(tf.keras.layers.Conv2DTranspose(100,(5,5),activation=\"tanh\"))\n",
    "# # generator.add(tf.keras.layers.Flatten())\n",
    "# # generator.add(tf.keras.layers.Dense(10800,activation=\"sigmoid\"))\n",
    "# generator.add(tf.keras.layers.Reshape((120,120,3)))"
   ]
  },
  {
   "cell_type": "code",
   "execution_count": null,
   "id": "168bd5dd",
   "metadata": {},
   "outputs": [],
   "source": [
    "generator.summary()"
   ]
  },
  {
   "cell_type": "code",
   "execution_count": null,
   "id": "b0cad5b2",
   "metadata": {},
   "outputs": [],
   "source": [
    "i= np.random.choice(range(100))\n",
    "z=Z[i,:]\n",
    "print(z.shape)\n",
    "z = z.reshape(-1,108,)\n"
   ]
  },
  {
   "cell_type": "code",
   "execution_count": null,
   "id": "ce51016e",
   "metadata": {},
   "outputs": [],
   "source": [
    "noise = tf.constant(generator(z))"
   ]
  },
  {
   "cell_type": "code",
   "execution_count": null,
   "id": "d100b7a1",
   "metadata": {},
   "outputs": [],
   "source": [
    "loss_obj = tf.keras.losses.CategoricalCrossentropy()\n",
    "generator_optimizer = tf.keras.optimizers.Adam(0.0001)\n",
    "\n"
   ]
  },
  {
   "cell_type": "code",
   "execution_count": null,
   "id": "4af4a1c3",
   "metadata": {},
   "outputs": [],
   "source": [
    "fx = model(X).numpy()\n",
    "fx1=fx\n",
    "ind=[]\n",
    "for i in range(2):\n",
    "    ind.append(np.argmax(fx1))\n",
    "    fx1[0][np.argmax(fx)]=0\n",
    "ind"
   ]
  },
  {
   "cell_type": "code",
   "execution_count": null,
   "id": "5a361716",
   "metadata": {},
   "outputs": [],
   "source": [
    "target = np.zeros_like(fx)\n",
    "target[0][1]=0\n",
    "target[0][3]=1\n",
    "target[0][2]=0\n",
    "target[0][0]=0\n",
    "target = target.reshape(4,)\n",
    "target"
   ]
  },
  {
   "cell_type": "code",
   "execution_count": null,
   "id": "416cf623",
   "metadata": {},
   "outputs": [],
   "source": [
    "# for epochs in range(10000):\n",
    "#     with tf.GradientTape() as gen_tape:\n",
    "#         generator.trainable = True       \n",
    "#         noise = generator(z)\n",
    "#         noise = tf.cast(noise,\"float32\")\n",
    "#         new_img = noise\n",
    "#         yhat = model(new_img)\n",
    "#         gen_loss1 = loss_obj(target,yhat[0])\n",
    "#         gen_loss2=tf.image.ssim(X,new_img,max_val=1,filter_size=15)#,filter_sigma=1.5,k1=0.05,k2=0.05)\n",
    "#         gen_loss2 = tf.constant(gen_loss2)\n",
    "#         gen_loss=gen_loss1-gen_loss2\n",
    "#         print(epochs,gen_loss1,gen_loss2*100)\n",
    "\n",
    "#     gradients_of_generator = gen_tape.gradient(gen_loss, generator.trainable_variables)\n",
    "#     generator_optimizer.apply_gradients(zip(gradients_of_generator, generator.trainable_variables))\n"
   ]
  },
  {
   "cell_type": "code",
   "execution_count": null,
   "id": "1f7c6b5c",
   "metadata": {},
   "outputs": [],
   "source": [
    "# plt.imshow(new_img[0])"
   ]
  },
  {
   "cell_type": "code",
   "execution_count": null,
   "id": "264f701d",
   "metadata": {},
   "outputs": [],
   "source": [
    "# model(new_img)"
   ]
  },
  {
   "cell_type": "code",
   "execution_count": null,
   "id": "15fec52c",
   "metadata": {},
   "outputs": [],
   "source": [
    "# with tf.GradientTape() as tape:\n",
    "#     tape.watch(X)\n",
    "#     yhat = model(X)[0]\n",
    "#     loss = loss_obj(target,yhat)\n",
    "# grad = tape.gradient(loss,X)"
   ]
  },
  {
   "cell_type": "code",
   "execution_count": null,
   "id": "49796d80",
   "metadata": {
    "scrolled": true
   },
   "outputs": [],
   "source": [
    "# plt.imshow(grad[0][:,:,0]*10000)\n",
    "# plt.show()\n",
    "# plt.imshow(X[0][:,:,0])\n",
    "# plt.show()\n",
    "# plt.imshow(new_img[0][:,:,0])\n",
    "# plt.show()"
   ]
  },
  {
   "cell_type": "code",
   "execution_count": null,
   "id": "fc4ba9ba",
   "metadata": {
    "scrolled": true
   },
   "outputs": [],
   "source": [
    "# plt.imshow(grad[0][:,:,1]*10000)\n",
    "# plt.show()\n",
    "# plt.imshow(X[0][:,:,1])\n",
    "# plt.show()\n",
    "# plt.imshow(new_img[0][:,:,1])\n",
    "# plt.show()"
   ]
  },
  {
   "cell_type": "code",
   "execution_count": null,
   "id": "fd98d2d3",
   "metadata": {},
   "outputs": [],
   "source": []
  },
  {
   "cell_type": "code",
   "execution_count": null,
   "id": "6f320cc4",
   "metadata": {
    "scrolled": true
   },
   "outputs": [],
   "source": [
    "# plt.imshow(grad[0][:,:,2]*10000)\n",
    "# plt.show()\n",
    "# plt.imshow(X[0][:,:,2])\n",
    "# plt.show()\n",
    "# plt.imshow(new_img[0][:,:,2])\n",
    "# plt.show()"
   ]
  },
  {
   "cell_type": "code",
   "execution_count": null,
   "id": "5d3f7da7",
   "metadata": {},
   "outputs": [],
   "source": [
    "# with tf.device('/CPU:0'):\n",
    "#     def luminous(x,y,c1,win_size):\n",
    "#         sum_mean=0\n",
    "#         m=0\n",
    "#         for i in range(0,x.numpy().shape[0]-win_size):\n",
    "#             for j in range(0,x.numpy().shape[1]-win_size):\n",
    "#                 mean_x = tf.math.reduce_mean(x[i:i+win_size,j:j+win_size])\n",
    "#                 mean_y = tf.math.reduce_mean(y[i:i+win_size,j:j+win_size])\n",
    "#                 sum_mean+=(2*mean_x*mean_y + c1)/((mean_x*mean_x)+(mean_y*mean_y)+c1)\n",
    "#                 m+=1\n",
    "#         return sum_mean/m\n",
    "#     def contrast(x,y,c2,win_size):\n",
    "#         sum_std=0\n",
    "#         m=0\n",
    "#         for i in range(0,x.numpy().shape[0]-win_size):\n",
    "#             for j in range(0,x.numpy().shape[1]-win_size):\n",
    "#                 std_x = tf.math.reduce_std(x[i:i+win_size,j:j+win_size])\n",
    "#                 std_y = tf.math.reduce_std(y[i:i+win_size,j:j+win_size])\n",
    "#                 sum_std+=(2*std_x*std_y + c2)/((std_x*std_x)+(std_y*std_y)+c2)\n",
    "#                 m+=1\n",
    "#         return sum_std/m\n",
    "\n",
    "    def structure(x,y,c3,win_size):\n",
    "        sum1=0\n",
    "        m=0\n",
    "        for i in range(0,x.numpy().shape[0]-win_size):\n",
    "            for j in range(0,x.numpy().shape[1]-win_size):\n",
    "                std_x = tf.math.reduce_std(x[i:i+win_size,j:j+win_size])\n",
    "                std_y = tf.math.reduce_std(y[i:i+win_size,j:j+win_size])\n",
    "                mean_x = tf.math.reduce_mean(x[i:i+win_size,j:j+win_size])\n",
    "                mean_y = tf.math.reduce_mean(y[i:i+win_size,j:j+win_size])\n",
    "                std_xy = tf.reduce_sum((x[i:i+win_size,j:j+win_size]-mean_x)*(y[i:i+win_size,j:j+win_size]-mean_y))/(win_size*win_size)\n",
    "                sum1+=(std_xy+c3)/((std_x*std_y)+c3)\n",
    "                m+=1\n",
    "        return sum1/m\n",
    "    def loss(X,Y,lum,con,stc,c1,c2,c3,r,g,b,window_size):\n",
    "        rx = X[0][:,:,0]\n",
    "        gx = X[0][:,:,1]\n",
    "        bx = X[0][:,:,2]\n",
    "        ry = Y[0][:,:,0]\n",
    "        gy = Y[0][:,:,1]\n",
    "        by = Y[0][:,:,2]\n",
    "#         l_r = luminous(rx,ry,c1,window_size)\n",
    "#         l_g = luminous(gx,gy,c1,window_size)\n",
    "#         l_b = luminous(bx,by,c1,window_size)\n",
    "#         l = (r*l_r+g*l_g+b*l_b)/3\n",
    "#         c_r = contrast(rx,ry,c2,window_size)\n",
    "#         c_g = contrast(gx,gy,c2,window_size)\n",
    "#         c_b = contrast(bx,by,c2,window_size)\n",
    "#         c = (r*c_r+g*c_g+b*c_b)/3 \n",
    "        s_r = structure(rx,ry,c3,window_size)\n",
    "        s_g = structure(gx,gy,c3,window_size)\n",
    "        s_b = structure(bx,by,c3,window_size)\n",
    "        s = (r*s_r+g*s_g+b*s_b)/3\n",
    "#         fun = tf.math.pow(l,lum)*tf.math.pow(c,con)*tf.math.pow(s,stc)\n",
    "        return s"
   ]
  },
  {
   "cell_type": "code",
   "execution_count": null,
   "id": "66e09765",
   "metadata": {},
   "outputs": [],
   "source": [
    "# %%time\n",
    "# loss(X,new_img,lum=1,con=1,stc=1,c1=0.0025,c2=0.0025,c3=0.00125,r=1,g=1,b=1,window_size=11)"
   ]
  },
  {
   "cell_type": "code",
   "execution_count": null,
   "id": "971c0301",
   "metadata": {},
   "outputs": [],
   "source": [
    "\n",
    "# def loss(X,Y,lum,con,stc,c1,c2,c3,r,g,b,win_size):\n",
    "#     rx = tf.reshape(X[0][:,:,0],[1,60,60,1])\n",
    "#     gx = tf.reshape(X[0][:,:,1],[1,60,60,1])\n",
    "#     bx = tf.reshape(X[0][:,:,1],[1,60,60,1])\n",
    "#     ry = tf.reshape(Y[0][:,:,0],[1,60,60,1])\n",
    "#     gy = tf.reshape(Y[0][:,:,1],[1,60,60,1])\n",
    "#     by = tf.reshape(Y[0][:,:,1],[1,60,60,1])\n",
    "#     w=1\n",
    "#     for x,y in zip([rx,gx,bx],[ry,gy,by]):\n",
    "        \n",
    "#         mean_x = tf.nn.avg_pool2d(x,ksize=win_size,strides=1,padding=\"VALID\")\n",
    "#         mean_y = tf.nn.avg_pool2d(y,ksize=win_size,strides=1,padding=\"VALID\")\n",
    "#         l= tf.reduce_mean((2*mean_x*mean_y + c1)/((mean_x*mean_x)+(mean_y*mean_y)+c1))\n",
    "#         sum_std=0\n",
    "#         sum_cov=0\n",
    "#         m=0\n",
    "#         x = tf.reshape(x,[60,60])\n",
    "#         y = tf.reshape(y,[60,60])\n",
    "#         for i in range(0,x.numpy().shape[0]-win_size):\n",
    "#             for j in range(0,x.numpy().shape[1]-win_size):\n",
    "#                 std_x = tf.math.reduce_std(x[i:i+win_size,j:j+win_size])\n",
    "#                 std_y = tf.math.reduce_std(y[i:i+win_size,j:j+win_size])\n",
    "#                 sum_std+=(2*std_x*std_y + c2)/((std_x*std_x)+(std_y*std_y)+c2)\n",
    "#                 mean_x = tf.math.reduce_mean(x[i:i+win_size,j:j+win_size])\n",
    "#                 mean_y = tf.math.reduce_mean(y[i:i+win_size,j:j+win_size])\n",
    "#                 std_xy = tf.reduce_sum((x[i:i+win_size,j:j+win_size]-mean_x)*(y[i:i+win_size,j:j+win_size]-mean_y))/(win_size*win_size)\n",
    "#                 sum_cov+=(std_xy+c3)/((std_x*std_y)+c3)\n",
    "#                 m+=1\n",
    "#         c= sum_std/m\n",
    "#         s = sum_cov/m\n",
    "#         if w==1:\n",
    "#             ssim_r = r*(tf.math.pow(l,lum)*tf.math.pow(c,con)*tf.math.pow(s,stc))\n",
    "#         if w==2:\n",
    "#             ssim_g = g*(tf.math.pow(l,lum)*tf.math.pow(c,con)*tf.math.pow(s,stc))\n",
    "#         if w==3:\n",
    "#             ssim_b = b*(tf.math.pow(l,lum)*tf.math.pow(c,con)*tf.math.pow(s,stc))\n",
    "#         w+=1\n",
    "#     return (ssim_r+ssim_g+ssim_b)"
   ]
  },
  {
   "cell_type": "code",
   "execution_count": null,
   "id": "b01eb809",
   "metadata": {},
   "outputs": [],
   "source": [
    "# %%time\n",
    "# loss(X,X,lum=1,con=1,stc=1,c1=0.0025,c2=0.0025,c3=0.00125,r=1,g=1,b=1,win_size=11)"
   ]
  },
  {
   "cell_type": "code",
   "execution_count": null,
   "id": "17c7e721",
   "metadata": {},
   "outputs": [],
   "source": [
    "for epochs in range(500):\n",
    "    print(\"BE PATIENT........\")\n",
    "    with tf.GradientTape() as gen_tape:\n",
    "        generator.trainable = True       \n",
    "        noise = generator(z)\n",
    "        noise = tf.cast(noise,\"float32\")\n",
    "        new_img = noise\n",
    "        yhat = model(new_img)\n",
    "        gen_loss1 = loss_obj(target,yhat[0])\n",
    "        gen_loss2=loss(X,new_img,lum=0.5,con=1,stc=2,c1=0.0025,c2=0.0025,c3=0.00125,r=0.5,g=0.25,b=0.25,window_size=11)\n",
    "        gen_loss2 = tf.constant(gen_loss2)\n",
    "        gen_loss=gen_loss1-gen_loss2\n",
    "        print(epochs,gen_loss1,100*gen_loss2)\n",
    "\n",
    "    gradients_of_generator = gen_tape.gradient(gen_loss, generator.trainable_variables)\n",
    "    generator_optimizer.apply_gradients(zip(gradients_of_generator, generator.trainable_variables))\n"
   ]
  },
  {
   "cell_type": "code",
   "execution_count": null,
   "id": "2d5d0696",
   "metadata": {},
   "outputs": [],
   "source": [
    "plt.imshow(new_img[0])"
   ]
  },
  {
   "cell_type": "code",
   "execution_count": null,
   "id": "34b37cba",
   "metadata": {},
   "outputs": [],
   "source": [
    "plt.imshow(X[0]-new_img[0])"
   ]
  },
  {
   "cell_type": "code",
   "execution_count": null,
   "id": "2f70415f",
   "metadata": {},
   "outputs": [],
   "source": [
    "plt.imshow(X[0])"
   ]
  },
  {
   "cell_type": "code",
   "execution_count": null,
   "id": "befb8d42",
   "metadata": {},
   "outputs": [],
   "source": []
  }
 ],
 "metadata": {
  "kernelspec": {
   "display_name": "Python 3 (ipykernel)",
   "language": "python",
   "name": "python3"
  },
  "language_info": {
   "codemirror_mode": {
    "name": "ipython",
    "version": 3
   },
   "file_extension": ".py",
   "mimetype": "text/x-python",
   "name": "python",
   "nbconvert_exporter": "python",
   "pygments_lexer": "ipython3",
   "version": "3.11.7"
  }
 },
 "nbformat": 4,
 "nbformat_minor": 5
}
